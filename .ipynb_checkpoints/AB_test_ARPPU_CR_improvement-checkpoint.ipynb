{
 "cells": [
  {
   "cell_type": "code",
   "execution_count": 1,
   "metadata": {},
   "outputs": [],
   "source": [
    "import pandas as pd\n",
    "import numpy as np\n",
    "import urllib.parse\n",
    "import requests\n",
    "\n",
    "import seaborn as sns\n",
    "import matplotlib.pyplot as plt\n",
    "import matplotlib.gridspec as gridspec\n",
    "\n",
    "import pingouin as pg"
   ]
  },
  {
   "cell_type": "markdown",
   "metadata": {},
   "source": [
    "<div id=\"top\"></div>\n",
    "\n",
    "## Академический проект _\"Анализ результатов А/В тестирования\"_\n",
    "### Формализация задачи\n",
    "В ходе тестирования гипотезы целевой группе была предложена новая механика оплаты услуг на сайте, у контрольной группы оставалась базовая механика. Необходимо проанализировать итоги эксперимента и сделать вывод, стоит ли запускать новую механику оплаты на всех пользователей.\n",
    "\n",
    "При этом часть данных была передана позже основного пакета. Напишем функцию для пересчета метрик и выводу графиков на основании добавленных данных.  \n",
    "\n",
    "### Входные данные\n",
    "\n",
    "В качестве входных данных были предоставлены 4 csv-файла, загруженные на Яндекс Диск:\n",
    " * [groups.csv](https://disk.yandex.ru/d/UhyYx41rTt3clQ) – файл с информацией о принадлежности пользователя к контрольной или экспериментальной группе (А – контрольная, B – тестовая).\n",
    " * [groups_add.csv](https://disk.yandex.ru/d/5Kxrz02m3IBUwQ) – дополнительный файл с пользователями, *который был передан спустя 2 дня после передачи данных.*\n",
    " * [active_studs.csv](https://disk.yandex.ru/d/Tbs44Bm6H_FwFQ) – файл с информацией о пользователях, которые зашли на платформу в дни проведения эксперимента. \n",
    " * [checks.csv](https://disk.yandex.ru/d/pH1q-VqcxXjsVA) – файл с информацией об оплатах пользователей в дни проведения эксперимента. \n",
    " \n",
    "### Предварительный список вопросов\n",
    "\n",
    " 1. Какие метрики могут быть показателями наличия / отсутствия разницы между контрольной и тестовой группами? ([перейти к вопросу](#point1))\n",
    " 2. Есть ли различия в показателях? ([перейти к вопросу](#point2))\n",
    " 3. Являются ли эти различия статистически значимыми? ([перейти к вопросу](#point3))  \n",
    " 4. Написать функцию для подгрузки дополнительных данных и пересчета метрик с их учетом ([перейти к вопросу](#point4))  \n",
    " 5. Стоит ли раскатывать новую механику на всех пользователей? ([перейти к вопросу](#point5))"
   ]
  },
  {
   "cell_type": "markdown",
   "metadata": {},
   "source": [
    "### Подгрузим данные по ссылкам\n",
    "Подгружать пока будем лишь изначальные данные - за исключением дополнительного файла с пользователями, который был передан спустя 2 дня после передачи основного пакета"
   ]
  },
  {
   "cell_type": "code",
   "execution_count": 2,
   "metadata": {},
   "outputs": [],
   "source": [
    "#запишем в словарь название фреймов и соответствующие ссылки для загрузки \n",
    "links_to_parse = {'groups': 'https://disk.yandex.ru/d/UhyYx41rTt3clQ', \n",
    "                  'active': 'https://disk.yandex.ru/d/Tbs44Bm6H_FwFQ',\n",
    "                  'payments': 'https://disk.yandex.ru/d/pH1q-VqcxXjsVA'\n",
    "                 }"
   ]
  },
  {
   "cell_type": "code",
   "execution_count": 3,
   "metadata": {},
   "outputs": [
    {
     "name": "stderr",
     "output_type": "stream",
     "text": [
      "/opt/tljh/user/lib/python3.7/site-packages/outdated/utils.py:18: OutdatedCacheFailedWarning: Failed to use cache while checking for outdated package.\n",
      "Set the environment variable OUTDATED_RAISE_EXCEPTION=1 for a full traceback.\n",
      "Set the environment variable OUTDATED_IGNORE=1 to disable these warnings.\n",
      "  **kwargs\n",
      "/opt/tljh/user/lib/python3.7/site-packages/outdated/utils.py:18: OutdatedPackageWarning: The package outdated is out of date. Your version is 0.2.1, the latest is 0.2.2.\n",
      "Set the environment variable OUTDATED_IGNORE=1 to disable these warnings.\n",
      "  **kwargs\n",
      "/opt/tljh/user/lib/python3.7/site-packages/outdated/utils.py:18: OutdatedPackageWarning: The package pingouin is out of date. Your version is 0.4.0, the latest is 0.5.5.\n",
      "Set the environment variable OUTDATED_IGNORE=1 to disable these warnings.\n",
      "  **kwargs\n"
     ]
    }
   ],
   "source": [
    "#напишем функцию для считывания фрейма из файлов по ссылке \n",
    "\n",
    "def link_parser(name, link):    \n",
    "    base_url = 'https://cloud-api.yandex.net/v1/disk/public/resources/download?'\n",
    "    final_url = base_url + urllib.parse.urlencode(dict(public_key=link))\n",
    "    response = requests.get(final_url)\n",
    "    download_url = response.json()['href']\n",
    "    return pd.read_csv(download_url, delimiter = \";\")\n",
    "\n",
    "#применим функцию для всех фреймов в словаре и запишем фрейм в переменные с названиями, соответствующими ключам словаря\n",
    "for name, public_link in zip(links_to_parse.keys(), links_to_parse.values()):\n",
    "    locals()[name] = link_parser(name, public_link)"
   ]
  },
  {
   "cell_type": "markdown",
   "metadata": {},
   "source": [
    "#### Изучим фрейм groups\n",
    "\n",
    "Фрейм содержит информацию о принадлежности пользователя к контрольной или экспериментальной группе (А – контрольная, B – тестовая)"
   ]
  },
  {
   "cell_type": "code",
   "execution_count": 4,
   "metadata": {},
   "outputs": [
    {
     "data": {
      "text/html": [
       "<div>\n",
       "<style scoped>\n",
       "    .dataframe tbody tr th:only-of-type {\n",
       "        vertical-align: middle;\n",
       "    }\n",
       "\n",
       "    .dataframe tbody tr th {\n",
       "        vertical-align: top;\n",
       "    }\n",
       "\n",
       "    .dataframe thead th {\n",
       "        text-align: right;\n",
       "    }\n",
       "</style>\n",
       "<table border=\"1\" class=\"dataframe\">\n",
       "  <thead>\n",
       "    <tr style=\"text-align: right;\">\n",
       "      <th></th>\n",
       "      <th>id</th>\n",
       "      <th>grp</th>\n",
       "    </tr>\n",
       "  </thead>\n",
       "  <tbody>\n",
       "    <tr>\n",
       "      <th>0</th>\n",
       "      <td>1489</td>\n",
       "      <td>B</td>\n",
       "    </tr>\n",
       "    <tr>\n",
       "      <th>1</th>\n",
       "      <td>1627</td>\n",
       "      <td>A</td>\n",
       "    </tr>\n",
       "    <tr>\n",
       "      <th>2</th>\n",
       "      <td>1768</td>\n",
       "      <td>B</td>\n",
       "    </tr>\n",
       "    <tr>\n",
       "      <th>3</th>\n",
       "      <td>1783</td>\n",
       "      <td>B</td>\n",
       "    </tr>\n",
       "    <tr>\n",
       "      <th>4</th>\n",
       "      <td>1794</td>\n",
       "      <td>A</td>\n",
       "    </tr>\n",
       "  </tbody>\n",
       "</table>\n",
       "</div>"
      ],
      "text/plain": [
       "     id grp\n",
       "0  1489   B\n",
       "1  1627   A\n",
       "2  1768   B\n",
       "3  1783   B\n",
       "4  1794   A"
      ]
     },
     "execution_count": 4,
     "metadata": {},
     "output_type": "execute_result"
    }
   ],
   "source": [
    "#выведем первые строки\n",
    "groups.head()"
   ]
  },
  {
   "cell_type": "code",
   "execution_count": 5,
   "metadata": {},
   "outputs": [
    {
     "name": "stdout",
     "output_type": "stream",
     "text": [
      "Размер фрейма groups: (74484, 2)\n"
     ]
    },
    {
     "data": {
      "text/plain": [
       "id      int64\n",
       "grp    object\n",
       "dtype: object"
      ]
     },
     "execution_count": 5,
     "metadata": {},
     "output_type": "execute_result"
    }
   ],
   "source": [
    "#оценим количество записей и полей\n",
    "print(f'Размер фрейма groups: {groups.shape}')\n",
    "\n",
    "#выведем типы данных\n",
    "groups.dtypes\n",
    "\n",
    "#типы данных считаны корректно"
   ]
  },
  {
   "cell_type": "code",
   "execution_count": 6,
   "metadata": {},
   "outputs": [
    {
     "data": {
      "text/plain": [
       "id     0\n",
       "grp    0\n",
       "dtype: int64"
      ]
     },
     "execution_count": 6,
     "metadata": {},
     "output_type": "execute_result"
    }
   ],
   "source": [
    "#проверим на наличие пропусков\n",
    "groups.isna().sum()\n",
    "\n",
    "#пропуски отсутствуют "
   ]
  },
  {
   "cell_type": "code",
   "execution_count": 7,
   "metadata": {},
   "outputs": [
    {
     "data": {
      "text/html": [
       "<div>\n",
       "<style scoped>\n",
       "    .dataframe tbody tr th:only-of-type {\n",
       "        vertical-align: middle;\n",
       "    }\n",
       "\n",
       "    .dataframe tbody tr th {\n",
       "        vertical-align: top;\n",
       "    }\n",
       "\n",
       "    .dataframe thead th {\n",
       "        text-align: right;\n",
       "    }\n",
       "</style>\n",
       "<table border=\"1\" class=\"dataframe\">\n",
       "  <thead>\n",
       "    <tr style=\"text-align: right;\">\n",
       "      <th></th>\n",
       "      <th>id</th>\n",
       "      <th>grp</th>\n",
       "    </tr>\n",
       "  </thead>\n",
       "  <tbody>\n",
       "  </tbody>\n",
       "</table>\n",
       "</div>"
      ],
      "text/plain": [
       "Empty DataFrame\n",
       "Columns: [id, grp]\n",
       "Index: []"
      ]
     },
     "execution_count": 7,
     "metadata": {},
     "output_type": "execute_result"
    }
   ],
   "source": [
    "#проверим на наличие дублей\n",
    "groups.loc[groups.duplicated()]\n",
    "\n",
    "#дубли отсутствуют "
   ]
  },
  {
   "cell_type": "code",
   "execution_count": 8,
   "metadata": {},
   "outputs": [
    {
     "data": {
      "text/html": [
       "<div>\n",
       "<style scoped>\n",
       "    .dataframe tbody tr th:only-of-type {\n",
       "        vertical-align: middle;\n",
       "    }\n",
       "\n",
       "    .dataframe tbody tr th {\n",
       "        vertical-align: top;\n",
       "    }\n",
       "\n",
       "    .dataframe thead th {\n",
       "        text-align: right;\n",
       "    }\n",
       "</style>\n",
       "<table border=\"1\" class=\"dataframe\">\n",
       "  <thead>\n",
       "    <tr style=\"text-align: right;\">\n",
       "      <th></th>\n",
       "      <th>id</th>\n",
       "    </tr>\n",
       "    <tr>\n",
       "      <th>grp</th>\n",
       "      <th></th>\n",
       "    </tr>\n",
       "  </thead>\n",
       "  <tbody>\n",
       "    <tr>\n",
       "      <th>A</th>\n",
       "      <td>14671</td>\n",
       "    </tr>\n",
       "    <tr>\n",
       "      <th>B</th>\n",
       "      <td>59813</td>\n",
       "    </tr>\n",
       "  </tbody>\n",
       "</table>\n",
       "</div>"
      ],
      "text/plain": [
       "        id\n",
       "grp       \n",
       "A    14671\n",
       "B    59813"
      ]
     },
     "execution_count": 8,
     "metadata": {},
     "output_type": "execute_result"
    }
   ],
   "source": [
    "#проверим, сколько пользователей попало в контрольную и сколько в тестовую группы\n",
    "groups.groupby('grp').count()\n",
    "\n",
    "#В тестовую группу попало 59 813 юзеров, а в контрольную - 14 671"
   ]
  },
  {
   "cell_type": "markdown",
   "metadata": {},
   "source": [
    "##### Промежуточный вывод по фрейму groups:\n",
    "Итого предполагалось, что в А/В тестировании примут участие <b>74 484 человека</b>, которые были поделены на контрольную и тестовую группы  \n",
    "\n",
    "    \n",
    "Разделение на контрольную и тестовую группы неравномерное: в контрольной группе <b>14 671 пользователей</b>, в то время как в тестовой - <b>59 813 юзеров</b> <i>(распределение примерно 20:80)</i>. \n",
    "    \n",
    "<i>Соответственно, есть вопросы к работе системы сплитования</i>\n",
    "***"
   ]
  },
  {
   "cell_type": "markdown",
   "metadata": {},
   "source": [
    "#### Изучим фрейм active\n",
    "\n",
    "Фрейм содержит информацию о пользователях, которые зашли на платформу в дни проведения эксперимента."
   ]
  },
  {
   "cell_type": "code",
   "execution_count": 9,
   "metadata": {},
   "outputs": [
    {
     "data": {
      "text/html": [
       "<div>\n",
       "<style scoped>\n",
       "    .dataframe tbody tr th:only-of-type {\n",
       "        vertical-align: middle;\n",
       "    }\n",
       "\n",
       "    .dataframe tbody tr th {\n",
       "        vertical-align: top;\n",
       "    }\n",
       "\n",
       "    .dataframe thead th {\n",
       "        text-align: right;\n",
       "    }\n",
       "</style>\n",
       "<table border=\"1\" class=\"dataframe\">\n",
       "  <thead>\n",
       "    <tr style=\"text-align: right;\">\n",
       "      <th></th>\n",
       "      <th>student_id</th>\n",
       "    </tr>\n",
       "  </thead>\n",
       "  <tbody>\n",
       "    <tr>\n",
       "      <th>0</th>\n",
       "      <td>581585</td>\n",
       "    </tr>\n",
       "    <tr>\n",
       "      <th>1</th>\n",
       "      <td>5723133</td>\n",
       "    </tr>\n",
       "    <tr>\n",
       "      <th>2</th>\n",
       "      <td>3276743</td>\n",
       "    </tr>\n",
       "    <tr>\n",
       "      <th>3</th>\n",
       "      <td>4238589</td>\n",
       "    </tr>\n",
       "    <tr>\n",
       "      <th>4</th>\n",
       "      <td>4475369</td>\n",
       "    </tr>\n",
       "  </tbody>\n",
       "</table>\n",
       "</div>"
      ],
      "text/plain": [
       "   student_id\n",
       "0      581585\n",
       "1     5723133\n",
       "2     3276743\n",
       "3     4238589\n",
       "4     4475369"
      ]
     },
     "execution_count": 9,
     "metadata": {},
     "output_type": "execute_result"
    }
   ],
   "source": [
    "#выведем первые строки\n",
    "active.head()"
   ]
  },
  {
   "cell_type": "code",
   "execution_count": 10,
   "metadata": {},
   "outputs": [
    {
     "name": "stdout",
     "output_type": "stream",
     "text": [
      "Размер фрейма active: (8341, 1)\n"
     ]
    },
    {
     "data": {
      "text/plain": [
       "student_id    int64\n",
       "dtype: object"
      ]
     },
     "execution_count": 10,
     "metadata": {},
     "output_type": "execute_result"
    }
   ],
   "source": [
    "#оценим количество записей и полей\n",
    "print(f'Размер фрейма active: {active.shape}')\n",
    "\n",
    "#активных пользователей в дни эксперимента было гораздо меньше, чем число значений во фрейме groups (8341 против 74484)\n",
    "#все пользователи были поделены на группы заранее (а не относились в ту или иную группу по факту захода в продукт)\n",
    "#лишь некоторые из распределенных по контрольной и тестовой группам пользователей в итоге приняли участие в эксперименте \n",
    "\n",
    "#выведем типы данных\n",
    "active.dtypes\n",
    "\n",
    "#типы данных считаны корректно"
   ]
  },
  {
   "cell_type": "code",
   "execution_count": 11,
   "metadata": {},
   "outputs": [
    {
     "data": {
      "text/plain": [
       "student_id    0\n",
       "dtype: int64"
      ]
     },
     "execution_count": 11,
     "metadata": {},
     "output_type": "execute_result"
    }
   ],
   "source": [
    "#проверим на наличие пропусков\n",
    "active.isna().sum()\n",
    "\n",
    "#пропуски отсутствуют "
   ]
  },
  {
   "cell_type": "code",
   "execution_count": 12,
   "metadata": {},
   "outputs": [
    {
     "data": {
      "text/html": [
       "<div>\n",
       "<style scoped>\n",
       "    .dataframe tbody tr th:only-of-type {\n",
       "        vertical-align: middle;\n",
       "    }\n",
       "\n",
       "    .dataframe tbody tr th {\n",
       "        vertical-align: top;\n",
       "    }\n",
       "\n",
       "    .dataframe thead th {\n",
       "        text-align: right;\n",
       "    }\n",
       "</style>\n",
       "<table border=\"1\" class=\"dataframe\">\n",
       "  <thead>\n",
       "    <tr style=\"text-align: right;\">\n",
       "      <th></th>\n",
       "      <th>student_id</th>\n",
       "    </tr>\n",
       "  </thead>\n",
       "  <tbody>\n",
       "  </tbody>\n",
       "</table>\n",
       "</div>"
      ],
      "text/plain": [
       "Empty DataFrame\n",
       "Columns: [student_id]\n",
       "Index: []"
      ]
     },
     "execution_count": 12,
     "metadata": {},
     "output_type": "execute_result"
    }
   ],
   "source": [
    "#проверим на наличие дублей\n",
    "active.loc[active.duplicated()]\n",
    "#дубли отсутствуют "
   ]
  },
  {
   "cell_type": "markdown",
   "metadata": {},
   "source": [
    "##### Промежуточный вывод по фрейму active: \n",
    "\n",
    "Итого в дни проведения эксперимента из 74 484 пользователей были активны лишь <b>8 341</b> <i>(примерно 11%)</i> \n",
    "    \n",
    "Фактическую численность контрольной и тестовой групп можно будет знать только после объединения фреймов groups и active\n",
    "***"
   ]
  },
  {
   "cell_type": "markdown",
   "metadata": {},
   "source": [
    "#### Изучим фрейм payments\n",
    "\n",
    "Фрейм содержит информацию об оплатах пользователей в дни проведения эксперимента"
   ]
  },
  {
   "cell_type": "code",
   "execution_count": 13,
   "metadata": {},
   "outputs": [
    {
     "data": {
      "text/html": [
       "<div>\n",
       "<style scoped>\n",
       "    .dataframe tbody tr th:only-of-type {\n",
       "        vertical-align: middle;\n",
       "    }\n",
       "\n",
       "    .dataframe tbody tr th {\n",
       "        vertical-align: top;\n",
       "    }\n",
       "\n",
       "    .dataframe thead th {\n",
       "        text-align: right;\n",
       "    }\n",
       "</style>\n",
       "<table border=\"1\" class=\"dataframe\">\n",
       "  <thead>\n",
       "    <tr style=\"text-align: right;\">\n",
       "      <th></th>\n",
       "      <th>student_id</th>\n",
       "      <th>rev</th>\n",
       "    </tr>\n",
       "  </thead>\n",
       "  <tbody>\n",
       "    <tr>\n",
       "      <th>0</th>\n",
       "      <td>1627</td>\n",
       "      <td>990.0</td>\n",
       "    </tr>\n",
       "    <tr>\n",
       "      <th>1</th>\n",
       "      <td>3185</td>\n",
       "      <td>690.0</td>\n",
       "    </tr>\n",
       "    <tr>\n",
       "      <th>2</th>\n",
       "      <td>25973</td>\n",
       "      <td>690.0</td>\n",
       "    </tr>\n",
       "    <tr>\n",
       "      <th>3</th>\n",
       "      <td>26280</td>\n",
       "      <td>690.0</td>\n",
       "    </tr>\n",
       "    <tr>\n",
       "      <th>4</th>\n",
       "      <td>100300</td>\n",
       "      <td>990.0</td>\n",
       "    </tr>\n",
       "  </tbody>\n",
       "</table>\n",
       "</div>"
      ],
      "text/plain": [
       "   student_id    rev\n",
       "0        1627  990.0\n",
       "1        3185  690.0\n",
       "2       25973  690.0\n",
       "3       26280  690.0\n",
       "4      100300  990.0"
      ]
     },
     "execution_count": 13,
     "metadata": {},
     "output_type": "execute_result"
    }
   ],
   "source": [
    "#выведем первые строки\n",
    "payments.head()"
   ]
  },
  {
   "cell_type": "code",
   "execution_count": 14,
   "metadata": {},
   "outputs": [
    {
     "name": "stdout",
     "output_type": "stream",
     "text": [
      "Размер фрейма payments: (541, 2)\n"
     ]
    },
    {
     "data": {
      "text/plain": [
       "student_id      int64\n",
       "rev           float64\n",
       "dtype: object"
      ]
     },
     "execution_count": 14,
     "metadata": {},
     "output_type": "execute_result"
    }
   ],
   "source": [
    "#оценим количество записей и полей\n",
    "print(f'Размер фрейма payments: {payments.shape}')\n",
    "\n",
    "#число строк существенно меньше, чем во фрейме active \n",
    "#лишь 541 пользователь совершил покупку в дни проведения эксперимента\n",
    "\n",
    "#выведем типы данных\n",
    "payments.dtypes\n",
    "\n",
    "#типы данных считаны корректно"
   ]
  },
  {
   "cell_type": "code",
   "execution_count": 15,
   "metadata": {},
   "outputs": [
    {
     "data": {
      "text/plain": [
       "student_id    0\n",
       "rev           0\n",
       "dtype: int64"
      ]
     },
     "execution_count": 15,
     "metadata": {},
     "output_type": "execute_result"
    }
   ],
   "source": [
    "#проверим на наличие пропусков\n",
    "payments.isna().sum()\n",
    "\n",
    "#пропуски отсутствуют "
   ]
  },
  {
   "cell_type": "code",
   "execution_count": 16,
   "metadata": {},
   "outputs": [
    {
     "data": {
      "text/html": [
       "<div>\n",
       "<style scoped>\n",
       "    .dataframe tbody tr th:only-of-type {\n",
       "        vertical-align: middle;\n",
       "    }\n",
       "\n",
       "    .dataframe tbody tr th {\n",
       "        vertical-align: top;\n",
       "    }\n",
       "\n",
       "    .dataframe thead th {\n",
       "        text-align: right;\n",
       "    }\n",
       "</style>\n",
       "<table border=\"1\" class=\"dataframe\">\n",
       "  <thead>\n",
       "    <tr style=\"text-align: right;\">\n",
       "      <th></th>\n",
       "      <th>student_id</th>\n",
       "      <th>rev</th>\n",
       "    </tr>\n",
       "  </thead>\n",
       "  <tbody>\n",
       "  </tbody>\n",
       "</table>\n",
       "</div>"
      ],
      "text/plain": [
       "Empty DataFrame\n",
       "Columns: [student_id, rev]\n",
       "Index: []"
      ]
     },
     "execution_count": 16,
     "metadata": {},
     "output_type": "execute_result"
    }
   ],
   "source": [
    "#проверим на наличие дублей по student_id\n",
    "payments.loc[active.duplicated(subset='student_id')]\n",
    "#дубли отсутствуют - т.е. каждый клиент совершил по одной оплате"
   ]
  },
  {
   "cell_type": "code",
   "execution_count": 17,
   "metadata": {},
   "outputs": [
    {
     "name": "stdout",
     "output_type": "stream",
     "text": [
      "Итоговая выручка за дни эксперимента равняется 573326.0\n"
     ]
    },
    {
     "data": {
      "text/plain": [
       "count     541.000000\n",
       "mean     1059.752317\n",
       "std       762.712359\n",
       "min       199.000000\n",
       "25%       290.000000\n",
       "50%       840.000000\n",
       "75%      1900.000000\n",
       "max      4650.000000\n",
       "Name: rev, dtype: float64"
      ]
     },
     "execution_count": 17,
     "metadata": {},
     "output_type": "execute_result"
    }
   ],
   "source": [
    "#выведем общую выручку и описательные статистики по выручке\n",
    "print(f'Итоговая выручка за дни эксперимента равняется {payments.rev.sum().round()}')\n",
    "payments.rev.describe()\n",
    "\n",
    "#NB: данные малоинформативны, т.к. нет понимания, какой механикой оплаты пользовались юзеры"
   ]
  },
  {
   "cell_type": "code",
   "execution_count": 18,
   "metadata": {},
   "outputs": [
    {
     "name": "stdout",
     "output_type": "stream",
     "text": [
      "Во фрейме active нет информации о 149 платящих пользователях (примерно 27.54% от всех пользователей во врейме payments)\n"
     ]
    }
   ],
   "source": [
    "#проверим, есть ли в payments информация о пользователях, которые совершили оплату, но не попали во фрейм active\n",
    "\n",
    "print(f'Во фрейме active нет информации о {payments.query(\"student_id not in @active.student_id\").student_id.count()} платящих' \n",
    "      f' пользовател{\"е\" if (payments.query(\"student_id not in @active.student_id\").student_id.count()%10 == 1) else \"ях\"}'\n",
    "      f' (примерно '\n",
    "      f'{(payments.query(\"student_id not in @active.student_id\").student_id.count()/(payments.shape[0])*100).round(2)}'\n",
    "      f'% от всех пользователей во врейме payments)')\n"
   ]
  },
  {
   "cell_type": "markdown",
   "metadata": {},
   "source": [
    "##### Промежуточный вывод по фрейму payments: \n",
    "\n",
    "Во фрейме содержится информация о сумме выручки и ID соответствующего юзера. Медианный чек по платящему клиенту <i>(без разделения на тестовую и контрольную группы)</i> равняется <i>840</i>, а средняя выручка - примерно <i>1060</i>. Это говорит о том, что распределение скорее всего не является нормальным. \n",
    "\n",
    "Итого в дни проведения эксперимента покупку совершил лишь <b>541 пользователь</b>. "
   ]
  },
  {
   "cell_type": "markdown",
   "metadata": {},
   "source": [
    "Также во фрейме active нет информации <b>о 149 платящих пользователях</b>, информация о которых содержится во фрейме payments. Такое может быть обусловлено двумя причинами:  \n",
    "    1) баг системы сбора данных;  \n",
    "    2) оплаты были совершены без захода в приложение <i>(например, в случае периодических платежей при наличии подписки)</i>. \n",
    "    \n",
    "Так как в моменте у нас нет возможности проверить систему сбора данных на наличие багов, в рамках дальнейших шагов исследования мы предположим, что случился второй из описанных сценариев <i>(т.е. средства были списаны в результате регулярной подписки)</i>. \n",
    "    \n",
    "Если пользователи, которые совершили оплату в дни эксперимента, отсутствуют во фрейме active, то их средства были списаны в оплату подписки без захода в приложение. Т.к. в продукт данные пользователи не заходили, воспользоваться новым методом оплаты они не могли - <b>значит, на показатели данных пользователей новая механика не повлияла.</b> В дальнейших шагах исследования такую группу пользователей рассматривать мы не будем.\n",
    "***"
   ]
  },
  {
   "cell_type": "markdown",
   "metadata": {},
   "source": [
    "### Создадим объединенный фрейм из трех источников, которые были переданы изначально\n",
    "\n"
   ]
  },
  {
   "cell_type": "code",
   "execution_count": 19,
   "metadata": {},
   "outputs": [],
   "source": [
    "#объединим active с groups и payments, оставив только данные об активных пользователях из active\n",
    "full_df = active.merge(groups.rename(columns={'id':'student_id'}), how='left')\\\n",
    "                .merge(payments, how='left') "
   ]
  },
  {
   "cell_type": "code",
   "execution_count": 20,
   "metadata": {},
   "outputs": [
    {
     "data": {
      "text/html": [
       "<div>\n",
       "<style scoped>\n",
       "    .dataframe tbody tr th:only-of-type {\n",
       "        vertical-align: middle;\n",
       "    }\n",
       "\n",
       "    .dataframe tbody tr th {\n",
       "        vertical-align: top;\n",
       "    }\n",
       "\n",
       "    .dataframe thead th {\n",
       "        text-align: right;\n",
       "    }\n",
       "</style>\n",
       "<table border=\"1\" class=\"dataframe\">\n",
       "  <thead>\n",
       "    <tr style=\"text-align: right;\">\n",
       "      <th></th>\n",
       "      <th>student_id</th>\n",
       "      <th>grp</th>\n",
       "      <th>rev</th>\n",
       "    </tr>\n",
       "  </thead>\n",
       "  <tbody>\n",
       "    <tr>\n",
       "      <th>0</th>\n",
       "      <td>581585</td>\n",
       "      <td>A</td>\n",
       "      <td>NaN</td>\n",
       "    </tr>\n",
       "    <tr>\n",
       "      <th>1</th>\n",
       "      <td>5723133</td>\n",
       "      <td>NaN</td>\n",
       "      <td>NaN</td>\n",
       "    </tr>\n",
       "    <tr>\n",
       "      <th>2</th>\n",
       "      <td>3276743</td>\n",
       "      <td>B</td>\n",
       "      <td>NaN</td>\n",
       "    </tr>\n",
       "    <tr>\n",
       "      <th>3</th>\n",
       "      <td>4238589</td>\n",
       "      <td>A</td>\n",
       "      <td>NaN</td>\n",
       "    </tr>\n",
       "    <tr>\n",
       "      <th>4</th>\n",
       "      <td>4475369</td>\n",
       "      <td>B</td>\n",
       "      <td>NaN</td>\n",
       "    </tr>\n",
       "  </tbody>\n",
       "</table>\n",
       "</div>"
      ],
      "text/plain": [
       "   student_id  grp  rev\n",
       "0      581585    A  NaN\n",
       "1     5723133  NaN  NaN\n",
       "2     3276743    B  NaN\n",
       "3     4238589    A  NaN\n",
       "4     4475369    B  NaN"
      ]
     },
     "execution_count": 20,
     "metadata": {},
     "output_type": "execute_result"
    }
   ],
   "source": [
    "#выведем начало полученного фрейма\n",
    "full_df.head()\n"
   ]
  },
  {
   "cell_type": "code",
   "execution_count": 21,
   "metadata": {},
   "outputs": [
    {
     "data": {
      "text/plain": [
       "(8341, 3)"
      ]
     },
     "execution_count": 21,
     "metadata": {},
     "output_type": "execute_result"
    }
   ],
   "source": [
    "#посмотрим на размер фрейма\n",
    "full_df.shape\n",
    "\n",
    "#число строк совпадаем с числом пользователей в active - так и должно быть"
   ]
  },
  {
   "cell_type": "code",
   "execution_count": 22,
   "metadata": {},
   "outputs": [
    {
     "data": {
      "text/plain": [
       "student_id       0\n",
       "grp             13\n",
       "rev           7949\n",
       "dtype: int64"
      ]
     },
     "execution_count": 22,
     "metadata": {},
     "output_type": "execute_result"
    }
   ],
   "source": [
    "#проверим число пропусков \n",
    "full_df.isna().sum()\n"
   ]
  },
  {
   "cell_type": "code",
   "execution_count": 23,
   "metadata": {},
   "outputs": [
    {
     "name": "stdout",
     "output_type": "stream",
     "text": [
      "Размер фрейма no_group_df составляет : (13, 3)\n",
      "Размер фрейма group_df составляет : (8328, 3)\n"
     ]
    }
   ],
   "source": [
    "#видим 13 пропусков в поле grp - возможно, информация о данных пользователях содержится в том фрейме, который был передан позже\n",
    "#пока что исключим данных пользователей из рассмотрения и запишем данные о них в отдельный фрейм\n",
    "\n",
    "no_group_df = full_df.loc[full_df.grp.isna()]\n",
    "group_df = full_df.loc[full_df.grp.notna()]\n",
    "\n",
    "#для проверки выведем размеры обоих фреймов\n",
    "\n",
    "print(f'Размер фрейма no_group_df составляет : {no_group_df.shape}')\n",
    "print(f'Размер фрейма group_df составляет : {group_df.shape}')"
   ]
  },
  {
   "cell_type": "code",
   "execution_count": 24,
   "metadata": {},
   "outputs": [
    {
     "data": {
      "text/html": [
       "<div>\n",
       "<style scoped>\n",
       "    .dataframe tbody tr th:only-of-type {\n",
       "        vertical-align: middle;\n",
       "    }\n",
       "\n",
       "    .dataframe tbody tr th {\n",
       "        vertical-align: top;\n",
       "    }\n",
       "\n",
       "    .dataframe thead th {\n",
       "        text-align: right;\n",
       "    }\n",
       "</style>\n",
       "<table border=\"1\" class=\"dataframe\">\n",
       "  <thead>\n",
       "    <tr style=\"text-align: right;\">\n",
       "      <th></th>\n",
       "      <th>student_id</th>\n",
       "      <th>grp</th>\n",
       "      <th>rev</th>\n",
       "    </tr>\n",
       "  </thead>\n",
       "  <tbody>\n",
       "  </tbody>\n",
       "</table>\n",
       "</div>"
      ],
      "text/plain": [
       "Empty DataFrame\n",
       "Columns: [student_id, grp, rev]\n",
       "Index: []"
      ]
     },
     "execution_count": 24,
     "metadata": {},
     "output_type": "execute_result"
    }
   ],
   "source": [
    "#проверим полученный фрейм на дубликаты по student_id\n",
    "group_df.loc[full_df.duplicated(subset='student_id')]\n",
    "\n",
    "#дубликатов нет\n",
    "#получается, в нашем фрейме все покупки клиента в дни эксперимента записаны одной строкой"
   ]
  },
  {
   "cell_type": "markdown",
   "metadata": {},
   "source": [
    "<div id=\"point1\"></div>\n",
    "\n",
    "### 1. Какие метрики могут быть показателями наличия / отсутствия разницы между контрольной и тестовой группами? ([в начало](#top))\n",
    "Исходя из имеющихся данных, выберем для оценки эффекта новой механики оплаты следующие метрики:\n",
    "\n",
    "1) конверсия в оплату (*т.е. сам факт совершения покупки говорит о том, что новая механика позволила конвертировать активного пользователя в платящего*)  \n",
    "2) доход с платящего пользователя (*т.е. ввиду более удобной механики совершения платежей платящие пользователи стали тратить больше денег в продукте*)\n",
    "\n",
    "#### Для начала посмотрим на основные метрики по тестовой и контрольной группам (ARPU, ARPPU, доля платящих пользователей)"
   ]
  },
  {
   "cell_type": "code",
   "execution_count": 25,
   "metadata": {},
   "outputs": [
    {
     "data": {
      "text/html": [
       "<div>\n",
       "<style scoped>\n",
       "    .dataframe tbody tr th:only-of-type {\n",
       "        vertical-align: middle;\n",
       "    }\n",
       "\n",
       "    .dataframe tbody tr th {\n",
       "        vertical-align: top;\n",
       "    }\n",
       "\n",
       "    .dataframe thead th {\n",
       "        text-align: right;\n",
       "    }\n",
       "</style>\n",
       "<table border=\"1\" class=\"dataframe\">\n",
       "  <thead>\n",
       "    <tr style=\"text-align: right;\">\n",
       "      <th></th>\n",
       "      <th>grp</th>\n",
       "      <th>active_users</th>\n",
       "      <th>paying_users</th>\n",
       "      <th>total_revenue</th>\n",
       "      <th>ARPU</th>\n",
       "      <th>ARPPU</th>\n",
       "      <th>prcnt_paying</th>\n",
       "    </tr>\n",
       "  </thead>\n",
       "  <tbody>\n",
       "    <tr>\n",
       "      <th>0</th>\n",
       "      <td>A</td>\n",
       "      <td>1535</td>\n",
       "      <td>78.0</td>\n",
       "      <td>72820.0</td>\n",
       "      <td>47.44</td>\n",
       "      <td>933.59</td>\n",
       "      <td>5.08</td>\n",
       "    </tr>\n",
       "    <tr>\n",
       "      <th>1</th>\n",
       "      <td>B</td>\n",
       "      <td>6793</td>\n",
       "      <td>313.0</td>\n",
       "      <td>393074.0</td>\n",
       "      <td>57.86</td>\n",
       "      <td>1255.83</td>\n",
       "      <td>4.61</td>\n",
       "    </tr>\n",
       "  </tbody>\n",
       "</table>\n",
       "</div>"
      ],
      "text/plain": [
       "  grp  active_users  paying_users  total_revenue   ARPU    ARPPU  prcnt_paying\n",
       "0   A          1535          78.0        72820.0  47.44   933.59          5.08\n",
       "1   B          6793         313.0       393074.0  57.86  1255.83          4.61"
      ]
     },
     "execution_count": 25,
     "metadata": {},
     "output_type": "execute_result"
    }
   ],
   "source": [
    "#посмотрим на основные метрики в разрезе групп\n",
    "group_df.groupby('grp', as_index=False)\\\n",
    "        .agg(active_users =('student_id', 'count'),\n",
    "             paying_users =('rev', lambda x: x.count() if (x>0).any() else 0),\n",
    "             total_revenue=('rev', 'sum')\n",
    "            )\\\n",
    "        .assign(ARPU        =lambda x: x.total_revenue.div(x.active_users),\n",
    "                ARPPU       =lambda x: x.total_revenue.div(x.paying_users),\n",
    "                prcnt_paying=lambda x: x.paying_users.div(x.active_users).mul(100)\n",
    "               )\\\n",
    "        .round(2)\n",
    "        "
   ]
  },
  {
   "cell_type": "code",
   "execution_count": 26,
   "metadata": {},
   "outputs": [
    {
     "data": {
      "image/png": "[encoded data removed]",
      "text/plain": [
       "<Figure size 720x576 with 1 Axes>"
      ]
     },
     "metadata": {
      "needs_background": "light"
     },
     "output_type": "display_data"
    }
   ],
   "source": [
    "#посмотрим на распределение среднего чека платящих юзеров\n",
    "fig_a = sns.displot(data=group_df.query('rev>0'), x='rev', hue='grp', kde=True, bins=20)\n",
    "fig_a.fig.set_size_inches(10,8)\n",
    "plt.xticks(rotation=45)\n",
    "plt.xticks(np.arange(0, 5500, 500))\n",
    "plt.show()\n",
    "#визуально наблюдаем, что в основном средний чек по группе В превышает средний чек по группе А"
   ]
  },
  {
   "cell_type": "code",
   "execution_count": 27,
   "metadata": {},
   "outputs": [
    {
     "data": {
      "image/png": "[encoded data removed]",
      "text/plain": [
       "<Figure size 648x288 with 2 Axes>"
      ]
     },
     "metadata": {
      "needs_background": "light"
     },
     "output_type": "display_data"
    }
   ],
   "source": [
    "#очевидно, что распределение среднего чека не является нормальным. Для практики посмотрим на qq plot\n",
    "fig, (ax1, ax2) = plt.subplots(1, 2, figsize=(9, 4))\n",
    "ax1 = pg.qqplot(x=group_df.query('rev>0 & grp==\"A\"').rev, ax=ax1)\n",
    "ax2 = pg.qqplot(x=group_df.query('rev>0 & grp==\"B\"').rev, ax=ax2)\n",
    "ax1.set_title('Q-Q Plot для контрольной группы (А)')\n",
    "ax2.set_title('Q-Q Plot для тестовой группы (В)')\n",
    "plt.show()\n"
   ]
  },
  {
   "cell_type": "code",
   "execution_count": 28,
   "metadata": {},
   "outputs": [
    {
     "data": {
      "text/html": [
       "<div>\n",
       "<style scoped>\n",
       "    .dataframe tbody tr th:only-of-type {\n",
       "        vertical-align: middle;\n",
       "    }\n",
       "\n",
       "    .dataframe tbody tr th {\n",
       "        vertical-align: top;\n",
       "    }\n",
       "\n",
       "    .dataframe thead th {\n",
       "        text-align: right;\n",
       "    }\n",
       "</style>\n",
       "<table border=\"1\" class=\"dataframe\">\n",
       "  <thead>\n",
       "    <tr style=\"text-align: right;\">\n",
       "      <th></th>\n",
       "      <th>mean</th>\n",
       "      <th>std</th>\n",
       "    </tr>\n",
       "    <tr>\n",
       "      <th>grp</th>\n",
       "      <th></th>\n",
       "      <th></th>\n",
       "    </tr>\n",
       "  </thead>\n",
       "  <tbody>\n",
       "    <tr>\n",
       "      <th>A</th>\n",
       "      <td>933.590</td>\n",
       "      <td>919.933</td>\n",
       "    </tr>\n",
       "    <tr>\n",
       "      <th>B</th>\n",
       "      <td>1255.827</td>\n",
       "      <td>791.293</td>\n",
       "    </tr>\n",
       "  </tbody>\n",
       "</table>\n",
       "</div>"
      ],
      "text/plain": [
       "         mean      std\n",
       "grp                   \n",
       "A     933.590  919.933\n",
       "B    1255.827  791.293"
      ]
     },
     "execution_count": 28,
     "metadata": {},
     "output_type": "execute_result"
    }
   ],
   "source": [
    "#посмотрим на среднее и стандартное отклонение для пользователей с ненулевой суммой покупок\n",
    "group_df.query('rev>0').groupby('grp').rev.agg(['mean', 'std']).round(3)\n"
   ]
  },
  {
   "cell_type": "markdown",
   "metadata": {},
   "source": [
    "Видим, что стандартное отклонение для пользователей с ненулевой суммой покупок в группах отличается. Т.к. разность дисперсий может повлиять в дальнейшем на результаты статистических тестов, необходимо провести проверку наших данных по выборке на гомоскедастичность. **Для этого применим критерий Левена**. \n",
    "\n",
    "Зафиксируем наши гипотезы: \n",
    "\n",
    "$H_0$: Дисперсия выручки в тестовой группе **равна** дисперсии выручки в контрольной группе *(учитываются лишь ненулевые значения)*.  \n",
    "$H_1$: Дисперсия выручки в тестовой группе **отличается** от дисперсии выручки в контрольной группе *(учитываются лишь ненулевые значения)*.  \n",
    "\n",
    "Уровень p-значимости зафиксируем на 0.05.\n"
   ]
  },
  {
   "cell_type": "code",
   "execution_count": 29,
   "metadata": {},
   "outputs": [
    {
     "name": "stdout",
     "output_type": "stream",
     "text": [
      "Уровень р-значимости по критерию Левена составил 0.081\n",
      "Уровень p-значимости не позволяет отклонить нулевую гипотезу о равенстве дисперсий выручки в контрольной и тестовой группах\n"
     ]
    },
    {
     "data": {
      "text/html": [
       "<div>\n",
       "<style scoped>\n",
       "    .dataframe tbody tr th:only-of-type {\n",
       "        vertical-align: middle;\n",
       "    }\n",
       "\n",
       "    .dataframe tbody tr th {\n",
       "        vertical-align: top;\n",
       "    }\n",
       "\n",
       "    .dataframe thead th {\n",
       "        text-align: right;\n",
       "    }\n",
       "</style>\n",
       "<table border=\"1\" class=\"dataframe\">\n",
       "  <thead>\n",
       "    <tr style=\"text-align: right;\">\n",
       "      <th></th>\n",
       "      <th>W</th>\n",
       "      <th>pval</th>\n",
       "      <th>equal_var</th>\n",
       "    </tr>\n",
       "  </thead>\n",
       "  <tbody>\n",
       "    <tr>\n",
       "      <th>levene</th>\n",
       "      <td>3.055864</td>\n",
       "      <td>0.081235</td>\n",
       "      <td>True</td>\n",
       "    </tr>\n",
       "  </tbody>\n",
       "</table>\n",
       "</div>"
      ],
      "text/plain": [
       "               W      pval  equal_var\n",
       "levene  3.055864  0.081235       True"
      ]
     },
     "execution_count": 29,
     "metadata": {},
     "output_type": "execute_result"
    }
   ],
   "source": [
    "a_levene = 0.05\n",
    "levene_results = pg.homoscedasticity(group_df.query('rev>0'), dv='rev', group='grp')\n",
    "print(f'Уровень р-значимости по критерию Левена составил {levene_results.pval[0].round(3)}')\n",
    "if levene_results.pval[0].round(3) > a_levene:\n",
    "    print(f'Уровень p-значимости не позволяет отклонить нулевую гипотезу о равенстве '\n",
    "          f'дисперсий выручки в контрольной и тестовой группах')\n",
    "else: \n",
    "    print(f'Уровень p-значимости позволяет отклонить нулевую гипотезу о равенстве '\n",
    "          f'дисперсий выручки в контрольной и тестовой группах')\n",
    "levene_results"
   ]
  },
  {
   "cell_type": "markdown",
   "metadata": {},
   "source": [
    "##### Промежуточные выводы по выбранным метрикам (CR и ARPPU):  \n",
    "    \n",
    "1. Распределение между контрольной и тестовой группами неравномерное. Численность тестовой группы (B) примерно в 4.5 раза <b>больше</b>, чем численность контрольной (А)\n",
    "    \n",
    "2. Как ARPU, так и ARPPU в контрольной группе (А) <b>меньше</b>, чем в тестовой (В)  \n",
    "    \n",
    "3. При этом доля платящих пользователей в контрольной группе (А) <b>больше</b>, чем в тестовой (В)\n",
    "    \n",
    "4. Среднеквадратическое отклонение в контрольной группе (A) больше, чем в тестовой (В). Тем не менее, результаты теста Левена для проверки гомоскедастичности показали, что данные различия не являются статистически значимыми: в целях дальнейшего исследования примем, что дисперсии выручки в контрольной (А) и тестовой (В) группах <b>равны</b>."
   ]
  },
  {
   "cell_type": "markdown",
   "metadata": {},
   "source": [
    "<div id=\"point2\"></div>\n",
    "\n",
    "### 2. Есть ли различия между контрольной и тестовой группами по выбранным метрикам? ([в начало](#top))\n",
    "Ранее мы наблюдали, что ARPPU и ARPU *(933.59 против 1255.83 и 47.44 против 57.86 соответственно)* по тестовой группе выше, чем по контрольной. В то же время, доля платящих пользователей среди общего числа юзеров продукта в тестовой группе ниже, чем в контрольной *(4.61% против 5.08%)*.\n",
    "\n",
    "<div id=\"point3\"></div>\n",
    "\n",
    "### 3. Являются ли эти различия статистически значимыми? ([в начало](#top))\n",
    "\n",
    "\n",
    "#### 1) Проверим наличие статистически значимых различий в показателе конверсии в покупку\n",
    "\n",
    "Так как конверсия является категориальной переменной, используем для оценки различий между контрольной и тестовой группах критерий хи-квадрат.\n",
    "\n",
    "Зафиксируем наши гипотезы: \n",
    "\n",
    "$H_0$: Конверсия в покупку в тестовой группе **идентична** конверсии в покупку в контрольной группе.  \n",
    "$H_1$: Конверсия в покупку в тестовой группе **отличается** от конверсии в покупку в контрольной группе.  \n",
    "\n",
    "Уровень p-значимости зафиксируем на 0.05."
   ]
  },
  {
   "cell_type": "code",
   "execution_count": 30,
   "metadata": {},
   "outputs": [
    {
     "name": "stderr",
     "output_type": "stream",
     "text": [
      "/opt/tljh/user/lib/python3.7/site-packages/ipykernel_launcher.py:3: SettingWithCopyWarning: \n",
      "A value is trying to be set on a copy of a slice from a DataFrame.\n",
      "Try using .loc[row_indexer,col_indexer] = value instead\n",
      "\n",
      "See the caveats in the documentation: https://pandas.pydata.org/pandas-docs/stable/user_guide/indexing.html#returning-a-view-versus-a-copy\n",
      "  This is separate from the ipykernel package so we can avoid doing imports until\n"
     ]
    },
    {
     "data": {
      "text/html": [
       "<div>\n",
       "<style scoped>\n",
       "    .dataframe tbody tr th:only-of-type {\n",
       "        vertical-align: middle;\n",
       "    }\n",
       "\n",
       "    .dataframe tbody tr th {\n",
       "        vertical-align: top;\n",
       "    }\n",
       "\n",
       "    .dataframe thead th {\n",
       "        text-align: right;\n",
       "    }\n",
       "</style>\n",
       "<table border=\"1\" class=\"dataframe\">\n",
       "  <thead>\n",
       "    <tr style=\"text-align: right;\">\n",
       "      <th></th>\n",
       "      <th>student_id</th>\n",
       "      <th>grp</th>\n",
       "      <th>rev</th>\n",
       "      <th>is_purchase</th>\n",
       "    </tr>\n",
       "  </thead>\n",
       "  <tbody>\n",
       "    <tr>\n",
       "      <th>8336</th>\n",
       "      <td>1794344</td>\n",
       "      <td>B</td>\n",
       "      <td>NaN</td>\n",
       "      <td>no_purchase</td>\n",
       "    </tr>\n",
       "    <tr>\n",
       "      <th>8337</th>\n",
       "      <td>296883</td>\n",
       "      <td>B</td>\n",
       "      <td>NaN</td>\n",
       "      <td>no_purchase</td>\n",
       "    </tr>\n",
       "    <tr>\n",
       "      <th>8338</th>\n",
       "      <td>3598448</td>\n",
       "      <td>B</td>\n",
       "      <td>NaN</td>\n",
       "      <td>no_purchase</td>\n",
       "    </tr>\n",
       "    <tr>\n",
       "      <th>8339</th>\n",
       "      <td>3610547</td>\n",
       "      <td>B</td>\n",
       "      <td>290.0</td>\n",
       "      <td>purchase</td>\n",
       "    </tr>\n",
       "    <tr>\n",
       "      <th>8340</th>\n",
       "      <td>205705</td>\n",
       "      <td>B</td>\n",
       "      <td>NaN</td>\n",
       "      <td>no_purchase</td>\n",
       "    </tr>\n",
       "  </tbody>\n",
       "</table>\n",
       "</div>"
      ],
      "text/plain": [
       "      student_id grp    rev  is_purchase\n",
       "8336     1794344   B    NaN  no_purchase\n",
       "8337      296883   B    NaN  no_purchase\n",
       "8338     3598448   B    NaN  no_purchase\n",
       "8339     3610547   B  290.0     purchase\n",
       "8340      205705   B    NaN  no_purchase"
      ]
     },
     "execution_count": 30,
     "metadata": {},
     "output_type": "execute_result"
    }
   ],
   "source": [
    "#для удобства добавим в наш фрейм колонку is_purchase, которая может принимать значения purchase и no_purchase\n",
    "\n",
    "group_df['is_purchase'] = group_df.rev.apply(lambda x: 'purchase' if (x>0) else 'no_purchase')\n",
    "group_df.tail()"
   ]
  },
  {
   "cell_type": "code",
   "execution_count": 31,
   "metadata": {},
   "outputs": [
    {
     "data": {
      "text/html": [
       "<div>\n",
       "<style scoped>\n",
       "    .dataframe tbody tr th:only-of-type {\n",
       "        vertical-align: middle;\n",
       "    }\n",
       "\n",
       "    .dataframe tbody tr th {\n",
       "        vertical-align: top;\n",
       "    }\n",
       "\n",
       "    .dataframe thead th {\n",
       "        text-align: right;\n",
       "    }\n",
       "</style>\n",
       "<table border=\"1\" class=\"dataframe\">\n",
       "  <thead>\n",
       "    <tr style=\"text-align: right;\">\n",
       "      <th>grp</th>\n",
       "      <th>A</th>\n",
       "      <th>B</th>\n",
       "    </tr>\n",
       "    <tr>\n",
       "      <th>is_purchase</th>\n",
       "      <th></th>\n",
       "      <th></th>\n",
       "    </tr>\n",
       "  </thead>\n",
       "  <tbody>\n",
       "    <tr>\n",
       "      <th>no_purchase</th>\n",
       "      <td>1457</td>\n",
       "      <td>6480</td>\n",
       "    </tr>\n",
       "    <tr>\n",
       "      <th>purchase</th>\n",
       "      <td>78</td>\n",
       "      <td>313</td>\n",
       "    </tr>\n",
       "  </tbody>\n",
       "</table>\n",
       "</div>"
      ],
      "text/plain": [
       "grp             A     B\n",
       "is_purchase            \n",
       "no_purchase  1457  6480\n",
       "purchase       78   313"
      ]
     },
     "execution_count": 31,
     "metadata": {},
     "output_type": "execute_result"
    }
   ],
   "source": [
    "#выведем для удобства разбивку между группами А и В по наличию / отсутствию покупок в продукте\n",
    "\n",
    "pd.crosstab(group_df.is_purchase, group_df.grp)"
   ]
  },
  {
   "cell_type": "code",
   "execution_count": 32,
   "metadata": {},
   "outputs": [
    {
     "data": {
      "text/html": [
       "<div>\n",
       "<style scoped>\n",
       "    .dataframe tbody tr th:only-of-type {\n",
       "        vertical-align: middle;\n",
       "    }\n",
       "\n",
       "    .dataframe tbody tr th {\n",
       "        vertical-align: top;\n",
       "    }\n",
       "\n",
       "    .dataframe thead th {\n",
       "        text-align: right;\n",
       "    }\n",
       "</style>\n",
       "<table border=\"1\" class=\"dataframe\">\n",
       "  <thead>\n",
       "    <tr style=\"text-align: right;\">\n",
       "      <th></th>\n",
       "      <th>test</th>\n",
       "      <th>lambda</th>\n",
       "      <th>chi2</th>\n",
       "      <th>dof</th>\n",
       "      <th>pval</th>\n",
       "      <th>cramer</th>\n",
       "      <th>power</th>\n",
       "    </tr>\n",
       "  </thead>\n",
       "  <tbody>\n",
       "    <tr>\n",
       "      <th>0</th>\n",
       "      <td>pearson</td>\n",
       "      <td>1.000</td>\n",
       "      <td>0.527</td>\n",
       "      <td>1.0</td>\n",
       "      <td>0.468</td>\n",
       "      <td>0.008</td>\n",
       "      <td>0.112</td>\n",
       "    </tr>\n",
       "    <tr>\n",
       "      <th>1</th>\n",
       "      <td>cressie-read</td>\n",
       "      <td>0.667</td>\n",
       "      <td>0.523</td>\n",
       "      <td>1.0</td>\n",
       "      <td>0.469</td>\n",
       "      <td>0.008</td>\n",
       "      <td>0.112</td>\n",
       "    </tr>\n",
       "    <tr>\n",
       "      <th>2</th>\n",
       "      <td>log-likelihood</td>\n",
       "      <td>0.000</td>\n",
       "      <td>0.517</td>\n",
       "      <td>1.0</td>\n",
       "      <td>0.472</td>\n",
       "      <td>0.008</td>\n",
       "      <td>0.111</td>\n",
       "    </tr>\n",
       "    <tr>\n",
       "      <th>3</th>\n",
       "      <td>freeman-tukey</td>\n",
       "      <td>-0.500</td>\n",
       "      <td>0.513</td>\n",
       "      <td>1.0</td>\n",
       "      <td>0.474</td>\n",
       "      <td>0.008</td>\n",
       "      <td>0.110</td>\n",
       "    </tr>\n",
       "    <tr>\n",
       "      <th>4</th>\n",
       "      <td>mod-log-likelihood</td>\n",
       "      <td>-1.000</td>\n",
       "      <td>0.508</td>\n",
       "      <td>1.0</td>\n",
       "      <td>0.476</td>\n",
       "      <td>0.008</td>\n",
       "      <td>0.110</td>\n",
       "    </tr>\n",
       "    <tr>\n",
       "      <th>5</th>\n",
       "      <td>neyman</td>\n",
       "      <td>-2.000</td>\n",
       "      <td>0.500</td>\n",
       "      <td>1.0</td>\n",
       "      <td>0.480</td>\n",
       "      <td>0.008</td>\n",
       "      <td>0.109</td>\n",
       "    </tr>\n",
       "  </tbody>\n",
       "</table>\n",
       "</div>"
      ],
      "text/plain": [
       "                 test  lambda   chi2  dof   pval  cramer  power\n",
       "0             pearson   1.000  0.527  1.0  0.468   0.008  0.112\n",
       "1        cressie-read   0.667  0.523  1.0  0.469   0.008  0.112\n",
       "2      log-likelihood   0.000  0.517  1.0  0.472   0.008  0.111\n",
       "3       freeman-tukey  -0.500  0.513  1.0  0.474   0.008  0.110\n",
       "4  mod-log-likelihood  -1.000  0.508  1.0  0.476   0.008  0.110\n",
       "5              neyman  -2.000  0.500  1.0  0.480   0.008  0.109"
      ]
     },
     "execution_count": 32,
     "metadata": {},
     "output_type": "execute_result"
    }
   ],
   "source": [
    "#выведем статистику по критерию хи-квадрат с округлением до тысячных\n",
    "\n",
    "pg.chi2_independence(data=group_df, x='grp', y='is_purchase')[2].round(3)"
   ]
  },
  {
   "cell_type": "code",
   "execution_count": 33,
   "metadata": {},
   "outputs": [
    {
     "name": "stdout",
     "output_type": "stream",
     "text": [
      "Статистически значимых различий в конверсиях в покупку контрольной и тестовой групп не обнаружено\n"
     ]
    }
   ],
   "source": [
    "#видим, что p-уровень значимости составляет примерно 0.47 по всем вариациям критерия хи-квадрат, что существенно выше 0.05 \n",
    "\n",
    "pval_count = pg.chi2_independence(data=group_df, x='grp', y='is_purchase')[2].round(3).query('pval<0.05')['pval'].count()\n",
    "\n",
    "if pval_count == 0: \n",
    "    print(f'Статистически значимых различий в конверсиях в покупку контрольной и тестовой групп не обнаружено')\n",
    "elif pval_count<6: \n",
    "    print(f'По некоторым вариациям критерия хи-квадрат были обнаружены статистически значимые различия')\n",
    "else: \n",
    "    print(f'Выявлены статистически значимые различия в конверсиях в покупку в контрольной и тестовой группах')"
   ]
  },
  {
   "cell_type": "markdown",
   "metadata": {},
   "source": [
    "##### Промежуточный вывод: \n",
    "В ходе сравнения конверсии в платящего пользователя между контрольной и тестовой группой <b>статистически значимых различий обнаружено не было</b>: p-уровень значимости существенно выше установленного порога 0.05, что не позволяет нам опровергнуть нулевую гипотезу. \n",
    "***"
   ]
  },
  {
   "cell_type": "markdown",
   "metadata": {},
   "source": [
    "#### 2) Проверим наличие статистически значимых различий по показателю ARPPU\n",
    "\n",
    "Сравним выручку с клиента в контрольной и тестовой группах. \n",
    "\n",
    "Оценивать данный показатель будем только по платящим клиентам (ARPPU): мы уже выяснили, что внедрение новой механики оплаты не оказало существенного влияния на конверсию в оплату. Сравнение ARPPU позволит выяснить, можем ли мы с уверенностью сказать, что новая механика оплаты может увеличить средний чек платящих клиентов и увеличить выручку продукта.\n",
    "\n",
    "Хотя наше распределение не является нормальным, размер выборок в тестовой и в контрольной группах *(78 и 313 пользователей соответственно)*, а также равенство дисперсий позволяют использовать t-критерий Стьюдента для выявления статистически значимых различий по ARPPU. Ранее мы уже отмечали, что имеется неравенство выборок, в связи с чем потребуется использовать **поправку Уэлча**. \n",
    "\n",
    "Зафиксируем наши гипотезы: \n",
    "\n",
    "$H_0$: Средняя выручка с платящего клиента *(ARPPU)* в тестовой группе **идентична** средней выручке с платящего клиента в контрольной группе.  \n",
    "$H_1$: Средняя выручка с платящего клиента *(ARPPU)* в тестовой группе **отличается** от средней выручки с платящего клиента в контрольной группе.  \n",
    "\n",
    "Уровень p-значимости зафиксируем на 0.05."
   ]
  },
  {
   "cell_type": "code",
   "execution_count": 34,
   "metadata": {},
   "outputs": [
    {
     "data": {
      "text/html": [
       "<div>\n",
       "<style scoped>\n",
       "    .dataframe tbody tr th:only-of-type {\n",
       "        vertical-align: middle;\n",
       "    }\n",
       "\n",
       "    .dataframe tbody tr th {\n",
       "        vertical-align: top;\n",
       "    }\n",
       "\n",
       "    .dataframe thead th {\n",
       "        text-align: right;\n",
       "    }\n",
       "</style>\n",
       "<table border=\"1\" class=\"dataframe\">\n",
       "  <thead>\n",
       "    <tr style=\"text-align: right;\">\n",
       "      <th></th>\n",
       "      <th>T</th>\n",
       "      <th>dof</th>\n",
       "      <th>alternative</th>\n",
       "      <th>p-val</th>\n",
       "      <th>CI95%</th>\n",
       "      <th>cohen-d</th>\n",
       "      <th>BF10</th>\n",
       "      <th>power</th>\n",
       "    </tr>\n",
       "  </thead>\n",
       "  <tbody>\n",
       "    <tr>\n",
       "      <th>T-test</th>\n",
       "      <td>2.842642</td>\n",
       "      <td>107.11348</td>\n",
       "      <td>two-sided</td>\n",
       "      <td>0.005359</td>\n",
       "      <td>[97.52, 546.96]</td>\n",
       "      <td>0.393759</td>\n",
       "      <td>6.213</td>\n",
       "      <td>0.873644</td>\n",
       "    </tr>\n",
       "  </tbody>\n",
       "</table>\n",
       "</div>"
      ],
      "text/plain": [
       "               T        dof alternative     p-val            CI95%   cohen-d  \\\n",
       "T-test  2.842642  107.11348   two-sided  0.005359  [97.52, 546.96]  0.393759   \n",
       "\n",
       "         BF10     power  \n",
       "T-test  6.213  0.873644  "
      ]
     },
     "execution_count": 34,
     "metadata": {},
     "output_type": "execute_result"
    }
   ],
   "source": [
    "a_value = 0.05\n",
    "ttest_results = pg.ttest(group_df.query('rev>0 & grp == \"B\"').rev, group_df.query('rev>0 & grp == \"A\"').rev, correction=True)\n",
    "p_value = ttest_results['p-val'][0]\n",
    "ttest_results"
   ]
  },
  {
   "cell_type": "code",
   "execution_count": 35,
   "metadata": {},
   "outputs": [
    {
     "name": "stdout",
     "output_type": "stream",
     "text": [
      "Обнаружены статистически значимые различия в ARPPU у контрольной и тестовой групп: p-уровень значимости = 0.005\n"
     ]
    }
   ],
   "source": [
    "if p_value>a_value: \n",
    "    print(f'Статистически значимых различий в ARPPU у контрольной и тестовой групп не обнаружено: '\n",
    "          f'p-уровень значимости = {round(p_value,3)}')\n",
    "else: \n",
    "    print(f'Обнаружены статистически значимые различия в ARPPU у контрольной и тестовой групп: '\n",
    "          f'p-уровень значимости = {round(p_value,3)}')"
   ]
  },
  {
   "cell_type": "code",
   "execution_count": 36,
   "metadata": {},
   "outputs": [
    {
     "name": "stdout",
     "output_type": "stream",
     "text": [
      "Доверительный интервал для дельты, на которую увеличится ARPPU в случае внедрения новой механики, составляет от 97.52 до 546.96\n"
     ]
    }
   ],
   "source": [
    "print(f'Доверительный интервал для дельты, на которую увеличится ARPPU в случае внедрения новой механики, составляет от '\\\n",
    "      f'{ttest_results[\"CI95%\"][0][0]} до {ttest_results[\"CI95%\"][0][1]}')"
   ]
  },
  {
   "cell_type": "markdown",
   "metadata": {},
   "source": [
    "##### Промежуточный вывод: \n",
    "В ходе сравнения ARPPU у контрольной и тестовой групп <b> были выявлены статистически значимые различия</b> <i>(p-уровень значимости составил 0.005)</i>.\n",
    "    \n",
    "Показатель d Коэна составляет 0.39, что позволяет говорить о среднем влиянии новой механики оплаты на показатель ARPPU. \n",
    "\n",
    "    \n",
    "Доверительный интервал для дельты, на которую изменится ARPPU в случае внедрения новой механики, составляет от 97.52 до 546.96\n",
    "***\n",
    "\n"
   ]
  },
  {
   "cell_type": "markdown",
   "metadata": {},
   "source": [
    "Предварительный анализ показал, что новая механика оказала статистически значимое положительное влияние на среднюю выручку с платящего пользователя. Хотя изначально казалось, что в контрольной группе уровень конверсии в оплату выше, чем в тестовой, данные отличия статистически значимыми не являются. \n",
    "\n",
    "<div id=\"point4\"></div>\n",
    "\n",
    "### 4. Напишем функцию для пересчета метрик на основе дополнительных данных ([в начало](#top))\n",
    "\n",
    "Для завершения анализа следует пересмотреть метрики с учетом данных, которые были переданы позже основного пакета ([groups_add.csv](https://disk.yandex.ru/d/5Kxrz02m3IBUwQ)). Напишем функции для автоматизации подгрузки данных и пересчета метрик на основании дополнительных данных, а также для построения графиков по обновленным данным.\n",
    "\n",
    "При отборе даннных будем также пользоваться примененной ранее логикой: в исследовании учитываются лишь те пользователи, которые были активны в дни проведения эксперимента *(т.е. id которых записаны во фрейме active)*."
   ]
  },
  {
   "cell_type": "code",
   "execution_count": 37,
   "metadata": {},
   "outputs": [
    {
     "data": {
      "text/html": [
       "<div>\n",
       "<style scoped>\n",
       "    .dataframe tbody tr th:only-of-type {\n",
       "        vertical-align: middle;\n",
       "    }\n",
       "\n",
       "    .dataframe tbody tr th {\n",
       "        vertical-align: top;\n",
       "    }\n",
       "\n",
       "    .dataframe thead th {\n",
       "        text-align: right;\n",
       "    }\n",
       "</style>\n",
       "<table border=\"1\" class=\"dataframe\">\n",
       "  <thead>\n",
       "    <tr style=\"text-align: right;\">\n",
       "      <th></th>\n",
       "      <th>id</th>\n",
       "      <th>grp</th>\n",
       "    </tr>\n",
       "  </thead>\n",
       "  <tbody>\n",
       "    <tr>\n",
       "      <th>0</th>\n",
       "      <td>5694584</td>\n",
       "      <td>B</td>\n",
       "    </tr>\n",
       "    <tr>\n",
       "      <th>1</th>\n",
       "      <td>5694830</td>\n",
       "      <td>B</td>\n",
       "    </tr>\n",
       "    <tr>\n",
       "      <th>2</th>\n",
       "      <td>5695057</td>\n",
       "      <td>B</td>\n",
       "    </tr>\n",
       "    <tr>\n",
       "      <th>3</th>\n",
       "      <td>5698872</td>\n",
       "      <td>B</td>\n",
       "    </tr>\n",
       "    <tr>\n",
       "      <th>4</th>\n",
       "      <td>5699067</td>\n",
       "      <td>B</td>\n",
       "    </tr>\n",
       "  </tbody>\n",
       "</table>\n",
       "</div>"
      ],
      "text/plain": [
       "        id grp\n",
       "0  5694584   B\n",
       "1  5694830   B\n",
       "2  5695057   B\n",
       "3  5698872   B\n",
       "4  5699067   B"
      ]
     },
     "execution_count": 37,
     "metadata": {},
     "output_type": "execute_result"
    }
   ],
   "source": [
    "#сначала попробуем считать файл по ссылке, чтобы проверить, какой использован разграничитель \n",
    "base_url = 'https://cloud-api.yandex.net/v1/disk/public/resources/download?'\n",
    "additional_link = 'https://disk.yandex.ru/d/5Kxrz02m3IBUwQ'\n",
    "final_url = base_url + urllib.parse.urlencode(dict(public_key=additional_link))\n",
    "response = requests.get(final_url)\n",
    "download_url = response.json()['href'] \n",
    "\n",
    "pd.read_csv(download_url).head()\n",
    "\n",
    "#данные разграничены запятой, файл считался успешно"
   ]
  },
  {
   "cell_type": "code",
   "execution_count": 38,
   "metadata": {},
   "outputs": [],
   "source": [
    "#напишем функцию, которая добавляет данные к анализу к изначальному фрейму и пересчитывает метрики на его основании\n",
    "#на вход функция будет получать:\n",
    "#     1) исходный фрейм\n",
    "#     2) фрейм с активными пользователями (чтобы отфильтровать из нового пакета только тех юзеров, которые были активны\n",
    "#                                          в дни эксперимента)\n",
    "#     3) фрейм с данными об оплатах (чтобы добавить информацию о покупках для новых отфильтрованных активных пользователей)\n",
    "#     4) ссылку, по которой лежит новый csv файл\n",
    "#     5) фрейм со всеми пользователями\n",
    "\n",
    "def metric_recount(initial_df,\n",
    "                   active_df, \n",
    "                   payments_df,\n",
    "                   additional_link):\n",
    "    \n",
    "#шаг 1: считываем файл, выводим размер и заголовки фрейма\n",
    "    base_url = 'https://cloud-api.yandex.net/v1/disk/public/resources/download?'\n",
    "    final_url = base_url + urllib.parse.urlencode(dict(public_key=additional_link))\n",
    "    response = requests.get(final_url)\n",
    "    download_url = response.json()['href']     \n",
    "    add_groups = pd.read_csv(download_url)\n",
    "    print(f'1. Дополнительно был передан фрейм размером {add_groups.shape} c заголовками: {add_groups.columns.to_list()}')\n",
    "    print()\n",
    "\n",
    "#шаг 2: применяем merge: объединяем новый фрейм с фреймом с активными пользователями, учитываем разницу в заголовках\n",
    "#       затем вносим данные о покупках и добавляем столбец с dummy переменными is_purchase\n",
    "#       выводим информацию о размере нового фрейма \n",
    "    add_df=add_groups.merge(active_df, \n",
    "                            how='inner', \n",
    "                            left_on=add_groups.columns[0], \n",
    "                            right_on=active.columns[0])\\\n",
    "                     [['student_id', 'grp']]\\\n",
    "                     .merge(payments, \n",
    "                            how='left')\\\n",
    "                     .assign(is_purchase=lambda x: x.rev.apply(lambda x: 'purchase' if x>0 else 'no_purchase'))\n",
    "    print(f'2. На основании ранее переданных фреймов отфильтровали активных пользователей, добавили информацию '\n",
    "          f'о покупках в приложении.')\n",
    "    print(f'   Размер нового фрейма составляет {add_df.shape}')\n",
    "    print()\n",
    "\n",
    "#шаг 3: выводим размер изначального фрейма, а также заголовки модифицированного и изначального фреймов \n",
    "#       заголовки позволят на этапе вывода проверить корректность последующей конкатенации \n",
    "#       производим конкатенацию и выводим размер результирующего фрейма\n",
    "#       сравниваем число записей во фреймах active и новом фрейме \n",
    "#       если число строк в active меньше числа строк в новом фрейме - ошибка, вернуть новый фрейм для проверки дубликатов\n",
    "\n",
    "    print(f'3. Модифицированный фрейм был объединен с изначальным фреймом размера {initial_df.shape}.')\n",
    "    print(f'   Заголовки изначального фрейма: {initial_df.columns.to_list()}')\n",
    "    print(f'   Заголовки модифицированного (добавляемого) фрейма: {add_df.columns.to_list()}')    \n",
    "    full_df = pd.concat([initial_df, add_df])\n",
    "    print(f'   Размер результирующего фрейма составляет '\n",
    "          f'{full_df.shape}')\n",
    "    \n",
    "    if full_df.shape[0] > active_df.shape[0]:\n",
    "        print(f'   Допущена ошибка: число строк в результирующем фрейме больше, чем число активных пользователей.')\n",
    "        return full_df\n",
    "    elif full_df.shape[0] == active_df.shape[0]:\n",
    "        print(f'   Число строк в результирующем фрейме равно числу активных пользователей. Данные переданы в полном объеме.')\n",
    "    else: \n",
    "        print(f'   Число строк в результирующем фрейме меньше числа активных пользователей: ')\\\n",
    "             (f'проверить недостающие данные.')\n",
    "    print()\n",
    "\n",
    "    \n",
    "#шаг 4: выведем основные метрики с учетом добавленных данных\n",
    "    print(f'4. Вывели основные метрики в разрезе групп: ')\n",
    "    print(f'        1) число активных и платящих пользователей;')\n",
    "    print(f'        2) общая выручка; ')\n",
    "    print(f'        3) ARPU и ARPPU; ')\n",
    "    print(f'        4) доля платящих пользователей.') \n",
    "    print()\n",
    "\n",
    "    print(full_df.groupby('grp', as_index=False)\\\n",
    "                 .agg(active_users =('student_id', 'count'),\n",
    "                      paying_users =('rev', lambda x: x.count() if (x>0).any() else 0),\n",
    "                      total_revenue=('rev', 'sum')\n",
    "                      )\\\n",
    "                 .assign(ARPU        =lambda x: x.total_revenue.div(x.active_users),\n",
    "                         ARPPU       =lambda x: x.total_revenue.div(x.paying_users),\n",
    "                         prcnt_paying=lambda x: x.paying_users.div(x.active_users).mul(100)\n",
    "                         )\\\n",
    "                 .round(2))\n",
    "    print()\n",
    "\n",
    "#шаг 5: применим критерий хи-квадрат для поиска статистически значимых различий в конверсии в покупку\n",
    "#       округлим до тысячных, выведем таблицу \n",
    "#       посчитаем, в скольки вариациях p-value превышает зафиксированный уровень \n",
    "    \n",
    "    print(f'5. Проверим наличие статистически значимых различий в показателе конверсии в покупку.')\n",
    "    print(f'   Конверсия - категориальная переменная. Значит, используем критерий хи-квадрат.')\n",
    "    print(f'   Зафиксируем наши гипотезы:')\n",
    "    print(f'        H_0: Конверсия в покупку в тестовой группе идентична конверсии в покупку в контрольной группе.') \n",
    "    print(f'        H_1: Конверсия в покупку в тестовой группе отличается от конверсии в покупку в контрольной группе.')\n",
    "    print(f'   Уровень p-значимости зафиксируем на 0.05.')\n",
    "    print()\n",
    "    \n",
    "    a_value_chi = 0.05\n",
    "    chi_result = pg.chi2_independence(data=full_df, x='grp', y='is_purchase')[2].round(3)\n",
    "    pval_chi_count = chi_result.query('pval<@a_value')['pval'].count()\n",
    "    print(chi_result)\n",
    "\n",
    "    print()\n",
    "    print(f'   Результаты сравнения конверсии в покупку в контрольной и тестовой группах:')\n",
    "\n",
    "    if pval_chi_count == 0: \n",
    "        print(f'      Статистически значимых различий в конверсиях в покупку контрольной и тестовой групп не обнаружено.')\n",
    "    elif pval_chi_count < chi_result.shape[0]: \n",
    "        print(f'      По некоторым вариациям критерия хи-квадрат были обнаружены статистически значимые различия.')\n",
    "    else: \n",
    "        print(f'      Выявлены статистически значимые различия в конверсиях в покупку в контрольной и тестовой группах.')\n",
    "    print()\n",
    "    \n",
    "#шаг 6: применим t-критерий для поиска статистически значимых различий в ARPPU\n",
    "#       выведем размеры выборок и p-val для критерия Левена для проверки соблюдения необходимых допущений для t-теста\n",
    "#       округлим до тысячных, выведем таблицу \n",
    "#       выведем доверительный интервал для ожидаемого изменения ARPPU при раскатке новой механики \n",
    "#       и округленное до тысячных p-value   \n",
    "    print(f'6. Проверим наличие статистически значимых различий по показателю ARPPU:')\n",
    "\n",
    "    if full_df[full_df.grp==\"A\"].student_id.count() == full_df[full_df.grp==\"B\"].student_id.count():\n",
    "        print(f'      Размеры выборок по группам А и В равны')\n",
    "    else:\n",
    "        print(f'      Размеры выборок по группам А и В не равны ({full_df[full_df.grp==\"A\"].student_id.count()} '\n",
    "              f'и {full_df[full_df.grp==\"B\"].student_id.count()} соответственно)')\n",
    "\n",
    "    a_levene = 0.05\n",
    "    levene_results = pg.homoscedasticity(full_df.query('rev>0'), dv='rev', group='grp')\n",
    "    print(f'      Уровень р-значимости по критерию Левена составил {levene_results.pval[0].round(3)}')\n",
    "    if levene_results.pval[0].round(3) > a_levene:\n",
    "        print(f'      Уровень p-значимости не позволяет отклонить гипотезу о равенстве'\n",
    "              f' дисперсий выручки в контрольной и тестовой группах')\n",
    "    else:\n",
    "        print(f'      Уровень p-значимости позволяет отклонить гипотезу о равенстве '\n",
    "              f' дисперсий выручки в контрольной и тестовой группах')\n",
    "              \n",
    "    print(f'   Как и ранее, используем для этих целей t-критерий')\n",
    "    print(f'   Зафиксируем наши гипотезы: ')\n",
    "    print(f'        H_0: ARPPU в тестовой группе идентична средней выручке с платящего клиента в контрольной группе. ') \n",
    "    print(f'        H_1: ARPPU в тестовой группе отличается от средней выручки с платящего клиента в контрольной группе.')\n",
    "    print(f'   Уровень p-значимости зафиксируем на 0.05.')\n",
    "    print()\n",
    "\n",
    "    a_value_ttest = 0.05\n",
    "    ttest_results = pg.ttest(full_df.query('rev>0 & grp == \"B\"').rev, \n",
    "                             full_df.query('rev>0 & grp == \"A\"').rev, \n",
    "                             correction=True)\n",
    "    p_value_ttest = ttest_results['p-val'][0].round(3)\n",
    "    print(ttest_results.round(3)) \n",
    "    print()\n",
    "    \n",
    "    print(f'   Результаты сравнения ARPPU в контрольной и тестовой группах:')\n",
    "\n",
    "    if p_value_ttest>a_value_ttest: \n",
    "        print(f'      Статистически значимых различий в ARPPU у контрольной и тестовой групп не обнаружено: '\n",
    "              f'p-уровень значимости = {p_value_ttest}')\n",
    "    else: \n",
    "        print(f'      Обнаружены статистически значимые различия в ARPPU у контрольной и тестовой групп: '\n",
    "              f'p-уровень значимости = {p_value_ttest}')\n",
    "    print(f'   Доверительный интервал для дельты, на которую изменится ARPPU при внедрении новой механики, составляет от '\\\n",
    "          f'{ttest_results[\"CI95%\"][0][0]} до {ttest_results[\"CI95%\"][0][1]}.')\n",
    "    print()\n",
    "\n",
    "#шаг 7: выведем рекомендацию о необходимости раскатки новой механики\n",
    "    print('7. Вывод:')\n",
    "    if pval_chi_count == 0 and p_value_ttest>a_value_ttest:\n",
    "        print(f'   Наличие статистически значимого эффекта от внедрения новой механики не доказано '\\\n",
    "              f'ни для показателя конверсии в покупку, ни для ARPPU')\n",
    "    elif pval_chi_count != 0 and p_value_ttest>a_value_ttest:\n",
    "        print(f'   Обнаружены статистически значимые различия в показателе конверсии в покупку.')\n",
    "        print(f'   Однако не обнаружено значимое воздействие новой механики оплаты на ARPPU')\n",
    "    elif pval_chi_count == 0 and p_value_ttest<=a_value_ttest:\n",
    "        print(f'   Обнаружены статистически значимые различия в показателе ARPPU. ')\n",
    "        print(f'   Однако не обнаружено значимое воздействие новой механики оплаты на конверсию в покупку')\n",
    "    elif pval_chi_count !=  0 and p_value_ttest<=a_value_ttest:\n",
    "        print(f'   Обнаружены статистически значимые различия в показателях конверсии в покупку и ARPPU')   \n",
    "\n",
    "#возвратим результирующий фрейм\n",
    "    return full_df"
   ]
  },
  {
   "cell_type": "code",
   "execution_count": 39,
   "metadata": {},
   "outputs": [
    {
     "name": "stdout",
     "output_type": "stream",
     "text": [
      "1. Дополнительно был передан фрейм размером (92, 2) c заголовками: ['id', 'grp']\n",
      "\n",
      "2. На основании ранее переданных фреймов отфильтровали активных пользователей, добавили информацию о покупках в приложении.\n",
      "   Размер нового фрейма составляет (13, 4)\n",
      "\n",
      "3. Модифицированный фрейм был объединен с изначальным фреймом размера (8328, 4).\n",
      "   Заголовки изначального фрейма: ['student_id', 'grp', 'rev', 'is_purchase']\n",
      "   Заголовки модифицированного (добавляемого) фрейма: ['student_id', 'grp', 'rev', 'is_purchase']\n",
      "   Размер результирующего фрейма составляет (8341, 4)\n",
      "   Число строк в результирующем фрейме равно числу активных пользователей. Данные переданы в полном объеме.\n",
      "\n",
      "4. Вывели основные метрики в разрезе групп: \n",
      "        1) число активных и платящих пользователей;\n",
      "        2) общая выручка; \n",
      "        3) ARPU и ARPPU; \n",
      "        4) доля платящих пользователей.\n",
      "\n",
      "  grp  active_users  paying_users  total_revenue   ARPU    ARPPU  prcnt_paying\n",
      "0   A          1538          78.0        72820.0  47.35   933.59          5.07\n",
      "1   B          6803         314.0       394974.0  58.06  1257.88          4.62\n",
      "\n",
      "5. Проверим наличие статистически значимых различий в показателе конверсии в покупку.\n",
      "   Конверсия - категориальная переменная. Значит, используем критерий хи-квадрат.\n",
      "   Зафиксируем наши гипотезы:\n",
      "        H_0: Конверсия в покупку в тестовой группе идентична конверсии в покупку в контрольной группе.\n",
      "        H_1: Конверсия в покупку в тестовой группе отличается от конверсии в покупку в контрольной группе.\n",
      "   Уровень p-значимости зафиксируем на 0.05.\n",
      "\n",
      "                 test  lambda   chi2  dof   pval  cramer  power\n",
      "0             pearson   1.000  0.485  1.0  0.486   0.008  0.107\n",
      "1        cressie-read   0.667  0.482  1.0  0.488   0.008  0.107\n",
      "2      log-likelihood   0.000  0.477  1.0  0.490   0.008  0.106\n",
      "3       freeman-tukey  -0.500  0.473  1.0  0.492   0.008  0.106\n",
      "4  mod-log-likelihood  -1.000  0.469  1.0  0.494   0.007  0.105\n",
      "5              neyman  -2.000  0.461  1.0  0.497   0.007  0.104\n",
      "\n",
      "   Результаты сравнения конверсии в покупку в контрольной и тестовой группах:\n",
      "      Статистически значимых различий в конверсиях в покупку контрольной и тестовой групп не обнаружено.\n",
      "\n",
      "6. Проверим наличие статистически значимых различий по показателю ARPPU:\n",
      "      Размеры выборок по группам А и В не равны (1538 и 6803 соответственно)\n",
      "      Уровень р-значимости по критерию Левена составил 0.08\n",
      "      Уровень p-значимости не позволяет отклонить гипотезу о равенстве дисперсий выручки в контрольной и тестовой группах\n",
      "   Как и ранее, используем для этих целей t-критерий\n",
      "   Зафиксируем наши гипотезы: \n",
      "        H_0: ARPPU в тестовой группе идентична средней выручке с платящего клиента в контрольной группе. \n",
      "        H_1: ARPPU в тестовой группе отличается от средней выручки с платящего клиента в контрольной группе.\n",
      "   Уровень p-значимости зафиксируем на 0.05.\n",
      "\n",
      "            T      dof alternative  p-val            CI95%  cohen-d   BF10  \\\n",
      "T-test  2.862  106.982   two-sided  0.005  [99.64, 548.94]    0.396  6.536   \n",
      "\n",
      "        power  \n",
      "T-test  0.878  \n",
      "\n",
      "   Результаты сравнения ARPPU в контрольной и тестовой группах:\n",
      "      Обнаружены статистически значимые различия в ARPPU у контрольной и тестовой групп: p-уровень значимости = 0.005\n",
      "   Доверительный интервал для дельты, на которую изменится ARPPU при внедрении новой механики, составляет от 99.64 до 548.94.\n",
      "\n",
      "7. Вывод:\n",
      "   Обнаружены статистически значимые различия в показателе ARPPU. \n",
      "   Однако не обнаружено значимое воздействие новой механики оплаты на конверсию в покупку\n"
     ]
    }
   ],
   "source": [
    "#запустим функцию и запишем результат в переменную 'full_df'\n",
    "full_df = metric_recount(group_df,\n",
    "                         active,\n",
    "                         payments,\n",
    "                         'https://disk.yandex.ru/d/5Kxrz02m3IBUwQ')"
   ]
  },
  {
   "cell_type": "code",
   "execution_count": 40,
   "metadata": {},
   "outputs": [],
   "source": [
    "#напишем функцию, которая будет выводить графики для визуализации распределения ARPPU (гистограмма + qq плоты) \n",
    "# и доли платящих пользователей\n",
    "\n",
    "#на ввод функция будет получать полный фрейм, полученный шагом ранее\n",
    "\n",
    "def viz_metrics(data):\n",
    "#задаем размер фигуры и субплоты\n",
    "    fig = plt.figure(figsize=(15, 18))\n",
    "    gs = gridspec.GridSpec(4, 3)\n",
    "\n",
    "#задаем положения субплотов\n",
    "    ax1 = fig.add_subplot(gs[:2, :])\n",
    "    ax2 = fig.add_subplot(gs[2, :2])\n",
    "    ax3 = fig.add_subplot(gs[3, :2])\n",
    "    ax4 = fig.add_subplot(gs[2:, 2])\n",
    "\n",
    "#задаем функции для графиков\n",
    "    fig_1 = sns.histplot(data=data.query('rev>0'), x='rev', hue='grp', kde=True, bins=20, ax=ax1)\n",
    "    fig_2 = pg.qqplot(x=group_df.query('rev>0 & grp==\"A\"').rev, ax=ax2)\n",
    "    fig_3 = pg.qqplot(x=group_df.query('rev>0 & grp==\"B\"').rev, ax=ax3)\n",
    "    fig_4 = sns.barplot(data=data.groupby('grp',as_index=False)\\\n",
    "                                 .agg(total_users= ('student_id', 'count'),\n",
    "                                      paying_users=('rev', lambda x: x.count().astype(int) if (x>0).any() else 0))\\\n",
    "                                 .assign(share_paying=lambda x: x.paying_users.div(x.total_users).mul(100).round(2)), \n",
    "                        x='grp',\n",
    "                        y='share_paying', \n",
    "                        errwidth=0, \n",
    "                        ax=ax4)\n",
    "\n",
    "#задаем названия графиков\n",
    "    ax1.set_title('Распределение ARPPU в контрольной (А) и тестовой (В) группах')\n",
    "    ax2.set_title('Q-Q Plot для контрольной группы (А)')\n",
    "    ax3.set_title('Q-Q Plot для тестовой группы (В)')\n",
    "    ax4.set_title('Доля платящих пользователей')\n",
    "\n",
    "#задаем названия осей и масштаб оси Y для 4го графика\n",
    "    ax4.set_xlabel('Группа')\n",
    "    ax4.set_ylabel('Проценты')\n",
    "    ax4.set_ylim(3, 5.5)\n",
    "    \n",
    "    plt.tight_layout()\n",
    "    plt.show()\n"
   ]
  },
  {
   "cell_type": "code",
   "execution_count": 41,
   "metadata": {},
   "outputs": [
    {
     "data": {
      "image/png": "[encoded data removed]",
      "text/plain": [
       "<Figure size 1080x1296 with 4 Axes>"
      ]
     },
     "metadata": {
      "needs_background": "light"
     },
     "output_type": "display_data"
    }
   ],
   "source": [
    "viz_metrics(full_df)"
   ]
  },
  {
   "cell_type": "markdown",
   "metadata": {},
   "source": [
    "<div id=\"point5\"></div>\n",
    "\n",
    "###  5. Стоит ли раскатывать новую механику на всех пользователей? ([в начало](#top))\n",
    "\n",
    "На основании t-критерия мы можем утверждать, что новая механика оказала **статистически значимое положительное влияние** на среднюю выручку с платящего пользователя *(p = 0.005)*. \n",
    "\n",
    "Хотя при первичном рассмотрении могло показаться, что доля платящих пользователей по контрольной группе выше, чем по тестовой, не имеется достаточных оснований, чтобы считать данные различия статистически значимыми. \n",
    "\n",
    "## **Таким образом, новую механику стоит раскатывать на всех пользователей**. \n",
    "\n",
    "Доверительный интервал для дельты, на которую изменится ARPPU при внедрении новой механики, составляет *от 99.64 до 548.94*."
   ]
  },
  {
   "cell_type": "code",
   "execution_count": null,
   "metadata": {},
   "outputs": [],
   "source": []
  }
 ],
 "metadata": {
  "kernelspec": {
   "display_name": "Python 3",
   "language": "python",
   "name": "python3"
  },
  "language_info": {
   "codemirror_mode": {
    "name": "ipython",
    "version": 3
   },
   "file_extension": ".py",
   "mimetype": "text/x-python",
   "name": "python",
   "nbconvert_exporter": "python",
   "pygments_lexer": "ipython3",
   "version": "3.7.3"
  }
 },
 "nbformat": 4,
 "nbformat_minor": 4
}
